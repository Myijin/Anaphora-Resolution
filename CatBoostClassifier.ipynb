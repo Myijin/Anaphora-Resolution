{
 "cells": [
  {
   "cell_type": "code",
   "execution_count": 2,
   "metadata": {},
   "outputs": [
    {
     "data": {
      "text/plain": [
       "(2000, 9)"
      ]
     },
     "execution_count": 2,
     "metadata": {},
     "output_type": "execute_result"
    }
   ],
   "source": [
    "import numpy as np\n",
    "import pandas as pd\n",
    "import spacy\n",
    "nlp = spacy.load('en_core_web_sm')\n",
    "from nltk.tokenize import sent_tokenize, word_tokenize\n",
    "from catboost import Pool, CatBoostClassifier, cv\n",
    "from sklearn import model_selection, metrics\n",
    "from feature import get_features\n",
    "\n",
    "test = pd.read_csv('gendered-pronoun-resolution/test_stage_1.tsv', delimiter='\\t').rename(columns={'A': 'A_Noun', 'B': 'B_Noun'})\n",
    "test.shape"
   ]
  },
  {
   "cell_type": "code",
   "execution_count": 3,
   "metadata": {},
   "outputs": [
    {
     "data": {
      "text/plain": [
       "(4454, 11)"
      ]
     },
     "execution_count": 3,
     "metadata": {},
     "output_type": "execute_result"
    }
   ],
   "source": [
    "gh_test = pd.read_csv(\"gendered-pronoun-resolution/gap-test.tsv\", delimiter='\\t')\n",
    "gh_valid = pd.read_csv(\"gendered-pronoun-resolution/gap-validation.tsv\", delimiter='\\t')\n",
    "gh_devop = pd.read_csv(\"gendered-pronoun-resolution/gap-development-revised.tsv\", delimiter='\\t')\n",
    "train = pd.concat((gh_test, gh_valid, gh_devop)).rename(columns={'A': 'A_Noun', 'B': 'B_Noun'}).reset_index(drop=True)\n",
    "train.shape"
   ]
  },
  {
   "cell_type": "code",
   "execution_count": 4,
   "metadata": {},
   "outputs": [],
   "source": [
    "para = -0.18\n",
    "train = get_features(train, para)\n",
    "test = get_features(test, para)"
   ]
  },
  {
   "cell_type": "code",
   "execution_count": 5,
   "metadata": {},
   "outputs": [],
   "source": [
    "def get_label(df):\n",
    "    df = df.rename(columns={'A-coref':'A', 'B-coref':'B'})\n",
    "    df['A'] = df['A'].astype(int)\n",
    "    df['B'] = df['B'].astype(int)\n",
    "    df['NEITHER'] = 1.0 - (df['A'] + df['B'])\n",
    "    \n",
    "    def label_class(row):\n",
    "        if row['A']==1:\n",
    "            return 0\n",
    "        if row['B']==1:\n",
    "            return 1\n",
    "        if row['NEITHER']==1:\n",
    "            return 2\n",
    "        else:\n",
    "            print(row)\n",
    "        \n",
    "    df['class'] = df.apply(lambda row: label_class(row), axis = 1)\n",
    "    return df\n",
    "\n",
    "train = get_label(train)\n",
    "gh_devop = gh_devop.rename(columns={'A': 'A_Noun', 'B': 'B_Noun'})\n",
    "submition = get_label(gh_devop)"
   ]
  },
  {
   "cell_type": "code",
   "execution_count": 6,
   "metadata": {},
   "outputs": [
    {
     "name": "stdout",
     "output_type": "stream",
     "text": [
      "('log_loss', 0.6009626808451145)\n",
      "('accuracy', 0.7441077441077442)\n",
      "('log_loss', 0.6518246162781429)\n",
      "('accuracy', 0.7227833894500562)\n",
      "('log_loss', 0.6336828848932201)\n",
      "('accuracy', 0.7474747474747475)\n",
      "('log_loss', 0.6354177202041342)\n",
      "('accuracy', 0.7261503928170595)\n",
      "('log_loss', 0.6084023756897176)\n",
      "('accuracy', 0.7328843995510662)\n",
      "Average 0.626058055582\n",
      "Average 0.73468013468\n"
     ]
    }
   ],
   "source": [
    "col = ['pronoun_type', 'pred_A', 'after_A', 'pred_B', 'after_B', \n",
    "       'head_A', 'nsubj_A', 'dobj_A', 'pobj_A', 'poss_A', 'paral_A', 'ad_A', 'nonad_A', \n",
    "       'head_B', 'nsubj_B', 'dobj_B', 'pobj_B', 'poss_B', 'paral_B', 'ad_B', 'nonad_B', \n",
    "       'pos_sent_A', 'pos_sent_B', 'A-dist', 'B-dist']\n",
    "\n",
    "cate_features_index = np.where(train[col].nunique() <5)[0]\n",
    "\n",
    "dict_lgb = {}\n",
    "dict_lgb[\"log_loss\"]=[]\n",
    "dict_lgb[\"accuracy\"]=[]\n",
    "for rstate in [1, 2, 3, 4, 5]:\n",
    "    x1, x2, y1, y2 = model_selection.train_test_split(train[col].fillna(0), \n",
    "                                                      train['class'], test_size=0.2, random_state=rstate)\n",
    "\n",
    "    model = CatBoostClassifier(loss_function='MultiClass', \n",
    "                               learning_rate=0.01, num_boost_round=3500, \n",
    "                               max_depth=8, random_seed=42, verbose=0)\n",
    "    model.fit(x1, y1, cat_features=cate_features_index)\n",
    "    y_pred = model.predict_proba(x2)\n",
    "    logloss = metrics.log_loss(y2, y_pred)\n",
    "    acc = metrics.accuracy_score(y2, np.argmax(y_pred, axis=1))\n",
    "    print('log_loss', logloss)\n",
    "    print('accuracy', acc)\n",
    "    dict_lgb[\"log_loss\"].append(logloss)\n",
    "    dict_lgb[\"accuracy\"].append(acc)\n",
    "    \n",
    "print(\"Average {}\".format(sum(dict_lgb[\"log_loss\"]) / float(5)))\n",
    "print(\"Average {}\".format(sum(dict_lgb[\"accuracy\"]) / float(5)))"
   ]
  },
  {
   "cell_type": "code",
   "execution_count": null,
   "metadata": {},
   "outputs": [],
   "source": [
    "from sklearn.model_selection import GridSearchCV\n",
    "\n",
    "gridParams = {\n",
    "    'max_depth':[7, 8, 9, 10], \n",
    "}\n",
    "\n",
    "# Create classifier.\n",
    "mdl = CatBoostClassifier(loss_function='MultiClass', \n",
    "                         cat_features=cate_features_index, \n",
    "                         random_seed=42, verbose=0)\n",
    "\n",
    "grid = GridSearchCV(mdl, gridParams,\n",
    "                    verbose=0,\n",
    "                    scoring='neg_log_loss',\n",
    "                    cv=5,\n",
    "                    n_jobs=-1)\n",
    "# Run the grid\n",
    "grid.fit(train[col].fillna(0), train['class'])"
   ]
  },
  {
   "cell_type": "code",
   "execution_count": null,
   "metadata": {},
   "outputs": [],
   "source": [
    "print(\"Best: %f using\" % (grid.best_score_))\n",
    "print(grid.best_estimator_.get_params())"
   ]
  }
 ],
 "metadata": {
  "kernelspec": {
   "display_name": "Python 2",
   "language": "python",
   "name": "python2"
  },
  "language_info": {
   "codemirror_mode": {
    "name": "ipython",
    "version": 2
   },
   "file_extension": ".py",
   "mimetype": "text/x-python",
   "name": "python",
   "nbconvert_exporter": "python",
   "pygments_lexer": "ipython2",
   "version": "2.7.10"
  }
 },
 "nbformat": 4,
 "nbformat_minor": 2
}

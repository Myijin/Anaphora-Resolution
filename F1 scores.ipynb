{
 "cells": [
  {
   "cell_type": "code",
   "execution_count": 1,
   "metadata": {},
   "outputs": [
    {
     "data": {
      "text/plain": [
       "(2000, 9)"
      ]
     },
     "execution_count": 1,
     "metadata": {},
     "output_type": "execute_result"
    }
   ],
   "source": [
    "import numpy as np\n",
    "import pandas as pd\n",
    "import spacy\n",
    "nlp = spacy.load('en')\n",
    "from catboost import CatBoostClassifier\n",
    "from sklearn.ensemble import GradientBoostingClassifier\n",
    "from sklearn import model_selection, metrics\n",
    "from feature import get_features\n",
    "\n",
    "test = pd.read_csv('gendered-pronoun-resolution/test_stage_1.tsv', delimiter='\\t').rename(columns={'A': 'A_Noun', 'B': 'B_Noun'})\n",
    "test.shape"
   ]
  },
  {
   "cell_type": "code",
   "execution_count": 2,
   "metadata": {},
   "outputs": [
    {
     "data": {
      "text/plain": [
       "(4454, 11)"
      ]
     },
     "execution_count": 2,
     "metadata": {},
     "output_type": "execute_result"
    }
   ],
   "source": [
    "gh_test = pd.read_csv(\"gendered-pronoun-resolution/gap-test.tsv\", delimiter='\\t')\n",
    "gh_valid = pd.read_csv(\"gendered-pronoun-resolution/gap-validation.tsv\", delimiter='\\t')\n",
    "gh_devop = pd.read_csv(\"gendered-pronoun-resolution/gap-development-revised.tsv\", delimiter='\\t')\n",
    "data = pd.concat((gh_test, gh_valid, gh_devop)).rename(columns={'A': 'A_Noun', 'B': 'B_Noun'}).reset_index(drop=True)\n",
    "data.shape"
   ]
  },
  {
   "cell_type": "code",
   "execution_count": 3,
   "metadata": {},
   "outputs": [],
   "source": [
    "para = -0.18\n",
    "data = get_features(data, para)"
   ]
  },
  {
   "cell_type": "code",
   "execution_count": 4,
   "metadata": {},
   "outputs": [],
   "source": [
    "def get_label(df):\n",
    "    df = df.rename(columns={'A-coref':'A', 'B-coref':'B'})\n",
    "    df['A'] = df['A'].astype(int)\n",
    "    df['B'] = df['B'].astype(int)\n",
    "    df['NEITHER'] = 1.0 - (df['A'] + df['B'])\n",
    "    \n",
    "    def label_class(row):\n",
    "        if row['A']==1:\n",
    "            return 0\n",
    "        if row['B']==1:\n",
    "            return 1\n",
    "        if row['NEITHER']==1:\n",
    "            return 2\n",
    "        else:\n",
    "            print(row)\n",
    "        \n",
    "    df['class'] = df.apply(lambda row: label_class(row), axis = 1)\n",
    "    return df\n",
    "\n",
    "data = get_label(data)"
   ]
  },
  {
   "cell_type": "code",
   "execution_count": 5,
   "metadata": {},
   "outputs": [
    {
     "name": "stdout",
     "output_type": "stream",
     "text": [
      "CatBoost Classifier F1 score: 0.7473292611802561\n",
      "Gradient Boosting Classifier F1 score: 0.7405657201314051\n"
     ]
    }
   ],
   "source": [
    "def get_f1(model, x_true, y_true):\n",
    "    y_pred = model.predict_proba(x_true)\n",
    "    f1 = metrics.f1_score(y_true, np.argmax(y_pred, axis=1), average=\"weighted\")\n",
    "    return f1\n",
    "\n",
    "col = ['pronoun_type', 'pred_A', 'after_A', 'pred_B', 'after_B', \n",
    "       'head_A', 'nsubj_A', 'dobj_A', 'pobj_A', 'poss_A', 'paral_A', 'ad_A', 'nonad_A', \n",
    "       'head_B', 'nsubj_B', 'dobj_B', 'pobj_B', 'poss_B', 'paral_B', 'ad_B', 'nonad_B', \n",
    "       'pos_sent_A', 'pos_sent_B', 'A-dist', 'B-dist']\n",
    "\n",
    "cate_features_index = np.where(data[col].nunique() <5)[0]\n",
    "\n",
    "model_catboost = CatBoostClassifier(\n",
    "    loss_function='MultiClass', \n",
    "    learning_rate=0.01, num_boost_round=3500, \n",
    "    max_depth=8, random_seed=42, verbose=False)\n",
    "\n",
    "model_gbc = GradientBoostingClassifier(\n",
    "    subsample=0.8, max_features='sqrt', max_depth=6, \n",
    "    min_samples_leaf=4, min_samples_split=9, \n",
    "    learning_rate=0.01, n_estimators=800, random_state=20)\n",
    "\n",
    "x1, x2, y1, y2 = model_selection.train_test_split(\n",
    "    data[col].fillna(0), \n",
    "    data['class'], test_size=0.2, random_state=3)\n",
    "\n",
    "model_catboost.fit(x1, y1, cat_features=cate_features_index)\n",
    "print('CatBoost Classifier F1 score: {}'.format(get_f1(model_catboost, x2, y2)))\n",
    "model_gbc.fit(x1, y1)\n",
    "print('Gradient Boosting Classifier F1 score: {}'.format(get_f1(model_gbc, x2, y2)))"
   ]
  }
 ],
 "metadata": {
  "kernelspec": {
   "display_name": "Python 3",
   "language": "python",
   "name": "python3"
  },
  "language_info": {
   "codemirror_mode": {
    "name": "ipython",
    "version": 3.0
   },
   "file_extension": ".py",
   "mimetype": "text/x-python",
   "name": "python",
   "nbconvert_exporter": "python",
   "pygments_lexer": "ipython3",
   "version": "3.4.4"
  }
 },
 "nbformat": 4,
 "nbformat_minor": 0
}